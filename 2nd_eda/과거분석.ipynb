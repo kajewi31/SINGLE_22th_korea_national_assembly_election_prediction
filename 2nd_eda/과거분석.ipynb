{
 "cells": [
  {
   "cell_type": "code",
   "execution_count": 1,
   "metadata": {},
   "outputs": [],
   "source": [
    "import pandas as pd"
   ]
  },
  {
   "cell_type": "code",
   "execution_count": 2,
   "metadata": {},
   "outputs": [],
   "source": [
    "theme_df = pd.read_csv(\"./2nd_preproc_data/theme_df.csv\", index_col=0)\n",
    "vote_df = pd.read_csv(\"./2nd_preproc_data/vote_df.csv\", index_col=0)"
   ]
  },
  {
   "cell_type": "code",
   "execution_count": 8,
   "metadata": {},
   "outputs": [],
   "source": [
    "vote_theme_df = vote_df.merge(theme_df, on=[\"loc_1\", \"loc_2\", \"loc_3\"])"
   ]
  },
  {
   "cell_type": "code",
   "execution_count": null,
   "metadata": {},
   "outputs": [],
   "source": [
    "# 3_position\n",
    "vote_theme_gb = vote_theme_df.groupby([\"theme\", \"time\"])[[\"lib\", \"con\", \"etc\"]].sum()"
   ]
  },
  {
   "cell_type": "code",
   "execution_count": 20,
   "metadata": {},
   "outputs": [],
   "source": [
    "vote_theme_gb_rat = vote_theme_gb.div(vote_theme_gb.sum(axis=1), axis=0)"
   ]
  },
  {
   "cell_type": "code",
   "execution_count": 21,
   "metadata": {},
   "outputs": [
    {
     "data": {
      "text/html": [
       "<div>\n",
       "<style scoped>\n",
       "    .dataframe tbody tr th:only-of-type {\n",
       "        vertical-align: middle;\n",
       "    }\n",
       "\n",
       "    .dataframe tbody tr th {\n",
       "        vertical-align: top;\n",
       "    }\n",
       "\n",
       "    .dataframe thead th {\n",
       "        text-align: right;\n",
       "    }\n",
       "</style>\n",
       "<table border=\"1\" class=\"dataframe\">\n",
       "  <thead>\n",
       "    <tr style=\"text-align: right;\">\n",
       "      <th></th>\n",
       "      <th></th>\n",
       "      <th>lib</th>\n",
       "      <th>con</th>\n",
       "      <th>etc</th>\n",
       "    </tr>\n",
       "    <tr>\n",
       "      <th>theme</th>\n",
       "      <th>time</th>\n",
       "      <th></th>\n",
       "      <th></th>\n",
       "      <th></th>\n",
       "    </tr>\n",
       "  </thead>\n",
       "  <tbody>\n",
       "    <tr>\n",
       "      <th rowspan=\"5\" valign=\"top\">강남구갑</th>\n",
       "      <th>2017_05</th>\n",
       "      <td>0.333519</td>\n",
       "      <td>0.295103</td>\n",
       "      <td>0.371379</td>\n",
       "    </tr>\n",
       "    <tr>\n",
       "      <th>2018_06</th>\n",
       "      <td>0.207971</td>\n",
       "      <td>0.208104</td>\n",
       "      <td>0.583925</td>\n",
       "    </tr>\n",
       "    <tr>\n",
       "      <th>2020_04</th>\n",
       "      <td>0.190222</td>\n",
       "      <td>0.300131</td>\n",
       "      <td>0.509647</td>\n",
       "    </tr>\n",
       "    <tr>\n",
       "      <th>2022_03</th>\n",
       "      <td>0.281443</td>\n",
       "      <td>0.692886</td>\n",
       "      <td>0.025671</td>\n",
       "    </tr>\n",
       "    <tr>\n",
       "      <th>2022_06</th>\n",
       "      <td>0.386617</td>\n",
       "      <td>0.601704</td>\n",
       "      <td>0.011679</td>\n",
       "    </tr>\n",
       "    <tr>\n",
       "      <th>...</th>\n",
       "      <th>...</th>\n",
       "      <td>...</td>\n",
       "      <td>...</td>\n",
       "      <td>...</td>\n",
       "    </tr>\n",
       "    <tr>\n",
       "      <th rowspan=\"5\" valign=\"top\">화성시을</th>\n",
       "      <th>2017_05</th>\n",
       "      <td>0.532351</td>\n",
       "      <td>0.120071</td>\n",
       "      <td>0.347578</td>\n",
       "    </tr>\n",
       "    <tr>\n",
       "      <th>2018_06</th>\n",
       "      <td>0.323414</td>\n",
       "      <td>0.106711</td>\n",
       "      <td>0.569875</td>\n",
       "    </tr>\n",
       "    <tr>\n",
       "      <th>2020_04</th>\n",
       "      <td>0.321661</td>\n",
       "      <td>0.173912</td>\n",
       "      <td>0.504427</td>\n",
       "    </tr>\n",
       "    <tr>\n",
       "      <th>2022_03</th>\n",
       "      <td>0.528568</td>\n",
       "      <td>0.439592</td>\n",
       "      <td>0.031840</td>\n",
       "    </tr>\n",
       "    <tr>\n",
       "      <th>2022_06</th>\n",
       "      <td>0.546007</td>\n",
       "      <td>0.448314</td>\n",
       "      <td>0.005679</td>\n",
       "    </tr>\n",
       "  </tbody>\n",
       "</table>\n",
       "<p>1211 rows × 3 columns</p>\n",
       "</div>"
      ],
      "text/plain": [
       "                    lib       con       etc\n",
       "theme time                                 \n",
       "강남구갑  2017_05  0.333519  0.295103  0.371379\n",
       "      2018_06  0.207971  0.208104  0.583925\n",
       "      2020_04  0.190222  0.300131  0.509647\n",
       "      2022_03  0.281443  0.692886  0.025671\n",
       "      2022_06  0.386617  0.601704  0.011679\n",
       "...                 ...       ...       ...\n",
       "화성시을  2017_05  0.532351  0.120071  0.347578\n",
       "      2018_06  0.323414  0.106711  0.569875\n",
       "      2020_04  0.321661  0.173912  0.504427\n",
       "      2022_03  0.528568  0.439592  0.031840\n",
       "      2022_06  0.546007  0.448314  0.005679\n",
       "\n",
       "[1211 rows x 3 columns]"
      ]
     },
     "execution_count": 21,
     "metadata": {},
     "output_type": "execute_result"
    }
   ],
   "source": [
    "vote_theme_gb_rat"
   ]
  },
  {
   "cell_type": "code",
   "execution_count": null,
   "metadata": {},
   "outputs": [],
   "source": []
  }
 ],
 "metadata": {
  "kernelspec": {
   "display_name": "quant_trading",
   "language": "python",
   "name": "python3"
  },
  "language_info": {
   "codemirror_mode": {
    "name": "ipython",
    "version": 3
   },
   "file_extension": ".py",
   "mimetype": "text/x-python",
   "name": "python",
   "nbconvert_exporter": "python",
   "pygments_lexer": "ipython3",
   "version": "3.10.13"
  }
 },
 "nbformat": 4,
 "nbformat_minor": 2
}
